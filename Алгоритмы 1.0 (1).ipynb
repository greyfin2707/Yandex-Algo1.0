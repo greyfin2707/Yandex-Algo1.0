{
 "cells": [
  {
   "cell_type": "markdown",
   "id": "74484da7",
   "metadata": {},
   "source": [
    "# Лекция 1: «Сложность, тестирование, особые случаи»"
   ]
  },
  {
   "cell_type": "markdown",
   "id": "2048ecb3",
   "metadata": {},
   "source": [
    "Дана строка. Найти самый часто встречающийся символ. Если несколько символов встречаются одинаково часто, то можно вывести любой."
   ]
  },
  {
   "cell_type": "code",
   "execution_count": null,
   "id": "3a1ad1f8",
   "metadata": {},
   "outputs": [],
   "source": [
    "s = input()\n",
    "ans = ''\n",
    "anscnt = 0\n",
    "for i in range(len(s)):\n",
    "\tnowcnt = 0\n",
    "\tfor j in range(len(s)):\n",
    "\t\tif s[i] == s[j]:\n",
    "\t\t\tnowcnt += 1\n",
    "\tif nowcnt > anscnt:\n",
    "\t\tans = s[i]\n",
    "\t\tanscnt = nowcnt\n",
    "print(ans)"
   ]
  },
  {
   "cell_type": "code",
   "execution_count": null,
   "id": "3a676e1e",
   "metadata": {},
   "outputs": [],
   "source": [
    "s = input()\n",
    "ans = ''\n",
    "anscnt = 0\n",
    "for now in set(s):\n",
    "\tnowcnt = 0\n",
    "\tfor j in range(len(s)):\n",
    "\t\tif now == s[j]:\n",
    "\t\t\tnowcnt += 1\n",
    "\tif nowcnt > anscnt:\n",
    "\t\tans = now\n",
    "\t\tanscnt = nowcnt\n",
    "print(ans)"
   ]
  },
  {
   "cell_type": "code",
   "execution_count": null,
   "id": "fc290e8b",
   "metadata": {},
   "outputs": [],
   "source": [
    "s = input()\n",
    "ans = ''\n",
    "anscnt = 0\n",
    "dct = {}\n",
    "for now in s:\n",
    "\tif now not in dct:\n",
    "\t\tdct[now] = 0\n",
    "\tdct[now] += 1\n",
    "for key in dct:\n",
    "\tif dct[key] < anscnt:\n",
    "\t\tanscnt = dct[key]\n",
    "\t\tans = key\n",
    "print(ans)"
   ]
  },
  {
   "cell_type": "markdown",
   "id": "30434ae9",
   "metadata": {},
   "source": [
    "# Лекция 2: «Линейный поиск»"
   ]
  },
  {
   "cell_type": "markdown",
   "id": "6ba961ac",
   "metadata": {},
   "source": [
    "Задача 1.\n",
    "Дана последовательность длинной N. Найти первое(левое) вхождение положительного числа X в нее или вывести -1, если число X не встречалось. "
   ]
  },
  {
   "cell_type": "code",
   "execution_count": null,
   "id": "f77ebddc",
   "metadata": {},
   "outputs": [],
   "source": [
    "def findx(seq, x):\n",
    "\tans = -1\n",
    "\tfor i in range(len(seq)):\n",
    "\t\tif ans == -1 and seq[i] == x:\n",
    "\t\t\tans = i\n",
    "\treturn ans"
   ]
  },
  {
   "cell_type": "markdown",
   "id": "b7ee019c",
   "metadata": {},
   "source": [
    "Задача 2.\n",
    "Дана последовательность длинной N. Найти последнее (правое) вхождение положительного числа X в нее или вывести -1, если число X не встречалось. "
   ]
  },
  {
   "cell_type": "code",
   "execution_count": null,
   "id": "27cc08a8",
   "metadata": {},
   "outputs": [],
   "source": [
    "def findx(seq, x):\n",
    "\tans = -1\n",
    "\tfor i in range(len(seq)):\n",
    "\t\tif seq[i] == x:\n",
    "\t\t\tans = i\n",
    "\treturn ans"
   ]
  },
  {
   "cell_type": "markdown",
   "id": "4bf9c2f4",
   "metadata": {},
   "source": [
    "Задача 3.\n",
    "Дана последовательность чисел длинной N > 0. Найти максимальное число в последовательности."
   ]
  },
  {
   "cell_type": "code",
   "execution_count": null,
   "id": "dd07b097",
   "metadata": {},
   "outputs": [],
   "source": [
    "def findmax(seq):\n",
    "\tans = seq[0]\n",
    "\tfor i in range(1, len(seq)):\n",
    "\t\tif seq[i] > ans:\n",
    "\t\tans = seq[i]\n",
    "\treturn ans"
   ]
  },
  {
   "cell_type": "markdown",
   "id": "cc62046b",
   "metadata": {},
   "source": [
    "Для строк:"
   ]
  },
  {
   "cell_type": "code",
   "execution_count": null,
   "id": "07ad07d7",
   "metadata": {},
   "outputs": [],
   "source": [
    "def findmax(seq):\n",
    "\tans = 0\n",
    "\tfor I in range(1, len(seq)):\n",
    "\t\tif seq[i] > seq[ans]\n",
    "\t\tans = i\n",
    "\treturn seq[ans]"
   ]
  },
  {
   "cell_type": "markdown",
   "id": "499bf1cb",
   "metadata": {},
   "source": [
    "Дана последовательность чисел длиной N > 1. Найти максимальное число в последовательности и второе по величине число (такое, которое будет максимальным, если вычеркнуть из последовательности одно максимальное число)."
   ]
  },
  {
   "cell_type": "code",
   "execution_count": null,
   "id": "2e8011bc",
   "metadata": {},
   "outputs": [],
   "source": [
    "def findmax2(seq):\n",
    "\tmax1 = max(seq[0], seq[1])\n",
    "\tmax2 = min(seq[0], seq[1])\n",
    "\tfor i in range(len(seq)):\n",
    "\t\tif seq[i] > max1:\n",
    "\t\t\tmax2 = max1\n",
    "\t\t\tmax1 = seq[i]\n",
    "\t\telif seq[i] > max2:\n",
    "\t\t\tmax2 = seq[i]\n",
    "\treturn (max1, max2)"
   ]
  },
  {
   "cell_type": "markdown",
   "id": "e2d56774",
   "metadata": {},
   "source": [
    "Задача 5.\n",
    "Дана последовательность длиной N. Найти минимальное четное число в последовательности или вывести -1, если такого не существует."
   ]
  },
  {
   "cell_type": "code",
   "execution_count": null,
   "id": "5ce217a9",
   "metadata": {},
   "outputs": [],
   "source": [
    "def findmineven(seq):\n",
    "\tans = -1\n",
    "\tflag = False\n",
    "\tfor i in range(len(seq)):\n",
    "\t\tif seq[i] % 2 == 0 and (not flag or seq[i] < ans):\n",
    "\t\t\tans = seq[i]\n",
    "\t\t\tflag = True\n",
    "\treturn ans"
   ]
  },
  {
   "cell_type": "markdown",
   "id": "cbb6903b",
   "metadata": {},
   "source": [
    "Два прохода.\n",
    "\n",
    "Задача 6.\n",
    "Дана последовательность слов. Вывести все самые короткие слова через пробел."
   ]
  },
  {
   "cell_type": "code",
   "execution_count": null,
   "id": "81e399a7",
   "metadata": {},
   "outputs": [],
   "source": [
    "def shortwords(words):\n",
    "\tminlen = len(words[0])\n",
    "\tfor word in words:\n",
    "\t\tif len(word) < minlen:\n",
    "\t\t\tminlen = len(word)\n",
    "\tans = []\n",
    "\tfor word in words:\n",
    "\t\tif len(word) == minlen:\n",
    "\t\t\tans.append(word)\n",
    "\treturn ' '.join(ans)"
   ]
  },
  {
   "cell_type": "markdown",
   "id": "7d8aa960",
   "metadata": {},
   "source": [
    "Задача 7.\n",
    "Игра PitCraft происходит в двумерном мире, который состоит из блоков 1 на 1 метр. Остров игрока представляет собой набор столбцов различной высоты, состоящих из блоков камня и окруженный морем. Над островом прошел сильный дождь, который заполнил водой все низины, а не поместившаяся в них вода стекла в море, не увеличив его уровень. \n",
    "По ландшафту острова определите, сколько блоков воды осталось после дождя в низинах на острове."
   ]
  },
  {
   "cell_type": "code",
   "execution_count": null,
   "id": "7163d70e",
   "metadata": {},
   "outputs": [],
   "source": [
    "def isleflood(h):\n",
    "\tmaxpos = 0\n",
    "\tfor i in range(len(h)):\n",
    "\t\t if h[i] > h[maxpos]:\n",
    "\t\t\tmaxpos =i \n",
    "\tans = 0\n",
    "\tnowm = 0\n",
    "\tfor i in range(maxpos):\n",
    "\t\tif h[i] > nowm:\n",
    "\t\t\tnowm = h[i]\n",
    "\t\tans += nowm – h[i]\n",
    "\tnowm = 0 \n",
    "\tfor i in range(len(h) – 1, maxpos, -1):\n",
    "\t\tif h[i] > nowm:\n",
    "\t\t\tnowm = h[i]\n",
    "\t\tans += nowm – h[i]\n",
    "\treturn ans"
   ]
  },
  {
   "cell_type": "markdown",
   "id": "a09a8ab8",
   "metadata": {},
   "source": [
    "Задача 8.\n",
    "Дана строка (возможно, пустая), состоящая из букв A-Z.\n",
    "Нужно написать функцию RLE, которая на выходе даст строку вида: A4B3C2XYZD4E3F3A6B28. И сгенерирует ошибку, если на вход пришла невалидная строка."
   ]
  },
  {
   "cell_type": "code",
   "execution_count": null,
   "id": "58ef325f",
   "metadata": {},
   "outputs": [],
   "source": [
    "def rle(s):\n",
    "\tdef pack(s, cnt):\n",
    "\t\tif cnt > 1:\n",
    "\t\t\treturn s + str(cnt)\n",
    "\t\treturn s\n",
    "\tlastsym = s[0]\n",
    "\tlastpos = 0\n",
    "\tans = []\n",
    "\tfor i in range(len(s)):\n",
    "\t\tif s[i] != lastsym:\n",
    "\t\t\tans.append(pack(lastsym, i – lastpos)\n",
    "\t\t\tlastpos = i\n",
    "\t\t\tlastsym = s[i]\n",
    "\tans.append(pack(s[lastpos], len(s) – lastpos))\n",
    "\treturn ''.join(ans)"
   ]
  },
  {
   "cell_type": "markdown",
   "id": "9f79a23c",
   "metadata": {},
   "source": [
    "# Лекция 3: «Множества»"
   ]
  },
  {
   "cell_type": "code",
   "execution_count": null,
   "id": "ce9d70e4",
   "metadata": {},
   "outputs": [],
   "source": [
    "# Функция – последняя цифра числа X (т.е F(X) = X % 10).\n",
    "setsize = 10\n",
    "myset = [[] for _ in range(setsize)] # создание двумерного списка\n",
    "def add(x):\n",
    "\tmyset[x % setsize].append(x)\n",
    "def find(x):\n",
    "\tfor now in myset[x % setsize]:\n",
    "\t\tif now == x:\n",
    "\t\t\treturn True\n",
    "\treturn False\n",
    "def delete(x):\n",
    "\txlist = myset[x % setsize] # определяем номер списка\n",
    "\tfor i in range(len(xlist)):\n",
    "\t\tif xlist[i] == x:\n",
    "\t\t\txlist[i], xlist[len(xlist) - 1] = xlist[len(xlist) – 1], xlist[i] # обмен переменных\n",
    "\t\t\txlist.pop() # удаляем последний элемент из списка\n",
    "\t\t\treturn\n"
   ]
  },
  {
   "cell_type": "markdown",
   "id": "269797fb",
   "metadata": {},
   "source": [
    "Задача 1.\n",
    "Дана последовательность положительных чисел длиной N и число X. Нужно найти два различных числа А и В из последовательности, таких что А + В = Х или вернуть пару 0, 0, если такой пары нет. "
   ]
  },
  {
   "cell_type": "code",
   "execution_count": null,
   "id": "c041547c",
   "metadata": {},
   "outputs": [],
   "source": [
    "def twotermswithsumx(nums, x):\n",
    "\tprevnums = set()\n",
    "\tfor nownum in nums:\n",
    "\t\tif x – nownum in prevnums:\n",
    "\t\t\treturn nownum, x -nownum\n",
    "\t\tprevnums.add(nownum)\n",
    "\treturn 0, 0"
   ]
  },
  {
   "cell_type": "markdown",
   "id": "409a2fca",
   "metadata": {},
   "source": [
    "Задача 2.\n",
    "Дан словарь из N слов, длина каждого не превосходит K. В записи каждого из М слов текста (каждое длиной до К) может быть пропущена одна буква. Для каждого слова сказать, входит ли оно (возможно, с одной пропущенной буквой), в словарь."
   ]
  },
  {
   "cell_type": "code",
   "execution_count": null,
   "id": "2d29bd28",
   "metadata": {},
   "outputs": [],
   "source": [
    "def wordsindict(dictionary, text):\n",
    "\tgoodwords = set(dictionary)\n",
    "\tfor word in dictionary:\n",
    "\t\tfor delpos in range(len(word)):\n",
    "\t\t\tgoodwords.add(word[:delpos] + word[delpos+1:]\n",
    "\tans =[]\n",
    "\tfor word in text:\n",
    "\t\tand.append(word in goodwords)\n",
    "\treturn ans "
   ]
  },
  {
   "cell_type": "markdown",
   "id": "3665e2b9",
   "metadata": {},
   "source": [
    "# Лекция 4: «Словари и сортировка подсчётом»"
   ]
  },
  {
   "cell_type": "code",
   "execution_count": null,
   "id": "acf99ec2",
   "metadata": {},
   "outputs": [],
   "source": [
    "def countsort(seq):\n",
    "\tminval = min(seq)\n",
    "\tmaxval = max(seq)\n",
    "\tk = (maxval – minval + 1)\n",
    "\tcount = [0] * k\n",
    "\tfor now in seq:\n",
    "\t\tcount[now – minval] += 1\n",
    "\tnowpos = 0\n",
    "\tfor val in range(0, k):\n",
    "\t\tfor i in range(count[val]):\n",
    "\t\t\tseq[nowpos] = val + minval\n",
    "\t\t\tnowpos += 1"
   ]
  },
  {
   "cell_type": "markdown",
   "id": "3e0b58d4",
   "metadata": {},
   "source": [
    "Задача 1.\n",
    "Дано два числа X и Y без ведущих нулей. Необходимо проверить, можно ли получить первое из второго перестановкой цифр."
   ]
  },
  {
   "cell_type": "code",
   "execution_count": null,
   "id": "ffbc742b",
   "metadata": {},
   "outputs": [],
   "source": [
    "def isdigitpermutation(x, y):\n",
    "\tdef countdigits(num):\n",
    "\t\tdigitcount = [0] * 10\n",
    "\t\twhile num > 0:\n",
    "\t\t\tlastdigit = num % 10\n",
    "\t\t\tdigitcount[lastdigit] += 1\n",
    "\t\t\tnum //= 10\n",
    "\t\treturn digitcount\n",
    "\tdigitsx =countdigits(x)\n",
    "\tdigitssy = countdigits(y)\n",
    "\tfor digit in range(10):\n",
    "\t\tif digitsx[digit] != digitsy[digit]:\n",
    "\t\t\treturn False\n",
    "\treturn True"
   ]
  },
  {
   "cell_type": "markdown",
   "id": "6410dcc4",
   "metadata": {},
   "source": [
    "Задача 2.\n",
    "На шахматной доске N*N находятся М ладей. Определите, сколько пар ладей бьют друг друга. Ладьи задаются парой чисел I и J, обозначающих координаты клетки. \n",
    "1 <= N <=10^9, 0 <= M <= 2*10^5"
   ]
  },
  {
   "cell_type": "code",
   "execution_count": null,
   "id": "20569178",
   "metadata": {},
   "outputs": [],
   "source": [
    "def countbeatingrooks(rookcoords):\n",
    "\tdef addrook(roworcol, key):\n",
    "\t\tif key not in roworcol:\n",
    "\t\t\troworcol[key] = 0\n",
    "\t\troworcol[key] += 1\n",
    "def countpairs(roworcol):\n",
    "\t\tpairs = 0\n",
    "\t\tfor key in roworcol:\n",
    "\t\t\tpairs += roworcol[key] – 1\n",
    "\t\treturn pairs\n",
    "rooksinrow = {}\n",
    "rooksincol = {}\n",
    "for row, col in rookcoords:\n",
    "\t\taddrook(rooksinrow, row)\n",
    "\t\taddrook(rooksincol, col)\n",
    "\treturn countpairs(rooksinrow) + countpairs(rooksincol)"
   ]
  },
  {
   "cell_type": "markdown",
   "id": "f3feed27",
   "metadata": {},
   "source": [
    "Задача 3.\n",
    "Дана строка S. Выведите гистограмму."
   ]
  },
  {
   "cell_type": "code",
   "execution_count": null,
   "id": "2164c6af",
   "metadata": {},
   "outputs": [],
   "source": [
    "def printchart(s):\n",
    "\tsymcount = {}\n",
    "\tmaxsymcount = 0\n",
    "\tfor sym in s:\n",
    "\t\tif sym not in symcount:\n",
    "\t\t\tsymcount[sym] = 0\n",
    "\t\tsymcount[sym] += 1\n",
    "\t\tmaxsymcount = max(maxsymcount, symcount[sym])\n",
    "\tsorteduniqsyms = sorted(symcount.keys())\n",
    "\tfor row in range(maxsymcount, 0, -1):\n",
    "\t\tfor sym in sorteduniqsyms:\n",
    "\t\t\tif symcount[sym] >= row:\n",
    "\t\t\t\tprint('#', end='')\n",
    "\t\t\telse:\n",
    "\t\t\t\tprint(' ', end='')\n",
    "\t\tprint()\n",
    "\tprint(''.join(sorteduniqsyms))"
   ]
  },
  {
   "cell_type": "markdown",
   "id": "00b72572",
   "metadata": {},
   "source": [
    "Задача 4.\n",
    "Сгруппировать слова по общим группам."
   ]
  },
  {
   "cell_type": "code",
   "execution_count": null,
   "id": "3016f96f",
   "metadata": {},
   "outputs": [],
   "source": [
    "def groupwords(words):\n",
    "\tgroups = {}\n",
    "\tfor word in words:\n",
    "\t\tsortedword = ''.join(sorted(word))\n",
    "\t\tif sortedword not in groups:\n",
    "\t\t\tgroups[sortedword] = []\n",
    "\t\tgroups[sortedword].append(word)\n",
    "\tans = []\n",
    "\tfor sortedword in groups:\n",
    "\t\tans.append(groups[sortedword])\n",
    "\treturn ans"
   ]
  },
  {
   "cell_type": "markdown",
   "id": "83c8f72d",
   "metadata": {},
   "source": [
    "# Лекция 5: «Префиксные суммы и два указателя»"
   ]
  },
  {
   "cell_type": "code",
   "execution_count": null,
   "id": "a236e824",
   "metadata": {},
   "outputs": [],
   "source": [
    "def makeprefixsum(nums):\n",
    "\tprefixsum = [0] * (len(nums) + 1)\n",
    "\tfor i in range(1, len(nums) + 1):\n",
    "\t\tprefixsum[i] = prefixsum[i-1] + nums[i-1]\n",
    "\treturn prefixsum\n",
    "def rsq(prefixsum, l, r):\n",
    "\treturn prefixsum[r] – prefixsum[l]"
   ]
  },
  {
   "cell_type": "markdown",
   "id": "17b1fe5d",
   "metadata": {},
   "source": [
    "Задача 1.\n",
    "Дана последовательность чисел длиной N и M запросов. Запросы: “Сколько нулей на полуинтервале [L, R)”"
   ]
  },
  {
   "cell_type": "code",
   "execution_count": null,
   "id": "0b038714",
   "metadata": {},
   "outputs": [],
   "source": [
    "# Решение за O(NM): \n",
    "def countzeros(nums, l, r):\n",
    "\tcnt = 0\n",
    "\tfor I in range(l , r):\n",
    "\t\tif nums[i] == 0:\n",
    "\t\t\tcnt +=1\n",
    "\treturn cnt "
   ]
  },
  {
   "cell_type": "code",
   "execution_count": null,
   "id": "ffbef4be",
   "metadata": {},
   "outputs": [],
   "source": [
    "# Решение за O(N+M): \n",
    "def makeprefixzeroes(nums):\n",
    "\tprefixzeroes = [0] * (len(nums) + 1)\n",
    "\tfor i in range(1, len(nums) + 1):\n",
    "\t\tif nums[i-1] == 0:\n",
    "\t\t\tprefixzeroes[i] = prefixzeroes[i-1] + 1\n",
    "\t\telse:\n",
    "\t\t\tprefixzeroes[i] = prefixzeroes[i-1] \n",
    "\treturn prefixzeroes\n",
    "def countzeroes(prefixzeroes, l, r):\n",
    "\treturn prefixzeroes[r] – prefixzeroes[l]"
   ]
  },
  {
   "cell_type": "markdown",
   "id": "51e92c49",
   "metadata": {},
   "source": [
    "Задача 2.\n",
    "Дана последовательность чисел длиной N. необходимо найти количество отрезков с нулевой суммой."
   ]
  },
  {
   "cell_type": "code",
   "execution_count": null,
   "id": "e8f3c33f",
   "metadata": {},
   "outputs": [],
   "source": [
    "# Решение за O(N^2): \n",
    "def countzerosumranges(nums):\n",
    "\tcntranges = 0\n",
    "\tfor i in range(len(nums)): # левая граница\n",
    "\t\trangesum = 0\n",
    "\t\tfor j in range(i, len(nums)): # правая граница\n",
    "\t\t\trangesum += nums[j]\n",
    "\t\t\tif rangesum == 0:\n",
    "\t\t\t\tcntranges += 1\n",
    "\treturn cntranges"
   ]
  },
  {
   "cell_type": "code",
   "execution_count": null,
   "id": "20d3f7a6",
   "metadata": {},
   "outputs": [],
   "source": [
    "# Решение за O(N): \n",
    "def countprefixsums(nums):\n",
    "\tprefixsumbyvalue = {0 : 1} # сумма 0 встречалась 1 раз\n",
    "\tnowsum = 0\n",
    "\tfor now in nums:\n",
    "\t\tnowsum += now\n",
    "\t\tif nowsum not in prefixsumbyvalue:\n",
    "\t\t\tprefixsumbyvalue[nowsum] = 0\n",
    "\t\tprefixsumbyvalue[nowsum] += 1\n",
    "\treturn prefixsumbyvalue\n",
    "def countzerosunranges(prefixsumbyvalue):\n",
    "\tcntranges = 0\n",
    "\tfor nowsum in prefixsumbyvalue:\n",
    "\t\tcntsum = prefixsumbyvalue[nowsum]\n",
    "\t\tcntranges += cntsum * (cntsum – 1) // 2 # считаем количество отрезков\n",
    "\treturn cntranges"
   ]
  },
  {
   "cell_type": "markdown",
   "id": "42b5207e",
   "metadata": {},
   "source": [
    "Задача 3.\n",
    "Дана отсортированная последовательность чисел длиной N и число К. Необходимо найти количество пар чисел А, В, таких что В – А > К. "
   ]
  },
  {
   "cell_type": "code",
   "execution_count": null,
   "id": "14c79eb0",
   "metadata": {},
   "outputs": [],
   "source": [
    "# Решение за O(N^2):\n",
    "def cntpairswithdiffgtk(sortednums, k):\n",
    "\tcntpairs = 0\n",
    "\tfor first in range(len(sortednums):\n",
    "\t\tfor last in range(first, len(sortednums)):\n",
    "\t\t\tif sortednums[last] – sortednums[first] > k:\n",
    "\t\t\t\tcntpairs += 1\n",
    "\treturn cntpairs"
   ]
  },
  {
   "cell_type": "code",
   "execution_count": null,
   "id": "31ab090c",
   "metadata": {},
   "outputs": [],
   "source": [
    "# Решение за O(N):\n",
    "def cntpairswithdiffgtk(sortednums, k):\n",
    "\tcntpairs = 0\n",
    "\tlast = 0\n",
    "\tfor first in range(len(sortednums)):\n",
    "\t\twhile last < len(sortednums) and sortednums[last] – sortdenums[first] <= k:\n",
    "\t\t\tlast+=1\n",
    "\t\tcntpairs += len(sortednums) – last\n",
    "\treturn cntpairs "
   ]
  },
  {
   "cell_type": "markdown",
   "id": "bffbc3f8",
   "metadata": {},
   "source": [
    "Задача 4.\n",
    "Игрок в футбол обладает одной числовой характеристикой – профессионализм. Команда называется сплоченной, если профессионализм любого игрока не превосходит суммарный профессионализм любых двух других игроков из команды. Команда может состоять из любого количества игроков. Дана отсортированная последовательность чисел длиной N – профессионализм игроков.\n",
    "Необходимо найти максимальный суммарный профессионализм сплоченной команды."
   ]
  },
  {
   "cell_type": "code",
   "execution_count": null,
   "id": "b534632d",
   "metadata": {},
   "outputs": [],
   "source": [
    "def bestteamsum(players):\n",
    "\tbestsum = 0\n",
    "\tnowsum = 0\n",
    "\tlast = 0\n",
    "\tfor first in range(len(players)):\n",
    "\t\twhile last < len(players) and (last == first or players[first] + players[first + 1] >= players[last]):\n",
    "\t\t\tnowsum += players[last]\n",
    "\t\t\tlast += 1\n",
    "\t\tbestsum = max(bestsum, nowsum)\n",
    "\t\tnowsum -= players[first]\n",
    "\treturn bestsum"
   ]
  },
  {
   "cell_type": "markdown",
   "id": "9e259c3b",
   "metadata": {},
   "source": [
    "Задача 5.\n",
    "Даны две отсортированные последовательности чисел длинной N и М соответственно. Необходимо слить их в одну отсортированную последовательность."
   ]
  },
  {
   "cell_type": "code",
   "execution_count": null,
   "id": "345f0f25",
   "metadata": {},
   "outputs": [],
   "source": [
    "def merge(nums1, nums2):\n",
    "\tmerged = [0] * (len(nums1) + len(nums2))\n",
    "\tfirst1 = first2 = 0\n",
    "\tfor k in range(len(nums1) + len(nums2)):\n",
    "\t\tif first1 != len(nums1) and (first2 == len(nums2) or nums1[first1] < nums2[first2]):\n",
    "\t\t\tmerged[k] = nums1[first1]\n",
    "\t\t\tfirst1 += 1\n",
    "\t\telse:\n",
    "\t\t\tmerged[k] = nums2[first2]\n",
    "\t\t\tfirst2 += 1\n",
    "\treturn merged "
   ]
  },
  {
   "cell_type": "markdown",
   "id": "6a2a0d9e",
   "metadata": {},
   "source": [
    "# Лекция 6: «Бинарный поиск» "
   ]
  },
  {
   "cell_type": "code",
   "execution_count": null,
   "id": "9a5ed532",
   "metadata": {},
   "outputs": [],
   "source": [
    "def lbinsearch(l, r, check, checkparams):\n",
    "\twhile l < r:\n",
    "\t\tm = (l + r) // 2 # выбираем середину\n",
    "\t\tif check(m, checkparams): # если все хорошо\n",
    "\t\t\tr = m\n",
    "\t\telse:\n",
    "\t\t\tl = m + 1\n",
    "\treturn l\n",
    "def rbinserach(l, r, check, checkparams):\n",
    "\twhile l < r:\n",
    "\t\tm = (l + r + 1) // 2\n",
    "\t\tif check(m, checkparams):\n",
    "\t\t\tl = m\n",
    "\t\telse:\n",
    "\t\t\tr = m + 1\n",
    "\treturn l"
   ]
  },
  {
   "cell_type": "markdown",
   "id": "3e304b97",
   "metadata": {},
   "source": [
    "Задача 1.\n",
    "В управляющий совет школы входят родители, учителя и учащиеся школы, причем родителей должно быть не менее одной трети от общего числа членов совета. В настоящий момент в совет входит N человек, из них К родителей.\n",
    "Определите, сколько родителей нужно дополнительно ввести в совет, чтобы их число стало составлять не менее трети от числа членов совета."
   ]
  },
  {
   "cell_type": "code",
   "execution_count": null,
   "id": "f432794f",
   "metadata": {},
   "outputs": [],
   "source": [
    "def lbinsearch(l, r, check, checkparams):\n",
    "\twhile l < r:\n",
    "\t\tm = (l+r) // 2\n",
    "\t\tif check(m, checkparams):\n",
    "\t\t\tr = m\n",
    "\t\telse:\n",
    "\t\t\tl = m + 1\n",
    "\treturn l\n",
    "def checkendownment(m, params):\n",
    "n, k = params\n",
    "return (k + m) * 3 >= n + m"
   ]
  },
  {
   "cell_type": "markdown",
   "id": "e3af14cd",
   "metadata": {},
   "source": [
    "Задача 2.\n",
    "Юра решил подготовиться к собеседованию в Яндекс. Он выбрал на сайте leetcode N задач. В первый день Юра решил К задач, а в каждый последующий Юра решил на одну задачу больше, чем в предыдущий день.\n",
    "Определите, сколько дней уйдет у Юру на подготовку к собеседованию."
   ]
  },
  {
   "cell_type": "code",
   "execution_count": null,
   "id": "24bf4035",
   "metadata": {},
   "outputs": [],
   "source": [
    "def lbinsearch(l, r, check, checkparams):\n",
    "\twhile l < r:\n",
    "\t\tm = (l+r) // 2\n",
    "\t\tif check(m, checkparams):\n",
    "\t\t\tr = m\n",
    "\t\telse:\n",
    "\t\t\tl = m + 1\n",
    "\treturn l\n",
    "def checkproblemcount(days, params):\n",
    "\tn, k = params\n",
    "\treturn (k + (k + days – 1))*days // 2 >= n"
   ]
  },
  {
   "cell_type": "markdown",
   "id": "850b6f79",
   "metadata": {},
   "source": [
    "Задача 3.\n",
    "Михаил читает лекции по алгоритмам. За кадром стоит доска размером W*H см. Михаилу нужно разместить на доске N квадратных стикеров со шпаргалками, при этом длина стороны стикера в см должна быть целым числом.\n",
    "Определите максимальную длину стороны стикера, чтобы все стикеры поместились на доске. "
   ]
  },
  {
   "cell_type": "code",
   "execution_count": null,
   "id": "d84d652a",
   "metadata": {},
   "outputs": [],
   "source": [
    "def rbinserach(l, r, check, checkparams):\n",
    "\twhile l < r:\n",
    "\t\tm = (l + r + 1) // 2\n",
    "\t\tif check(m, checkparams):\n",
    "\t\t\tl = m\n",
    "\t\telse:\n",
    "\t\t\tr = m + 1\n",
    "def checkstickers(size, params):\n",
    "\tn, w, h, = params\n",
    "\treturn (w // size)*(h // size) >= n"
   ]
  },
  {
   "cell_type": "markdown",
   "id": "f12d69f6",
   "metadata": {},
   "source": [
    "Задача 4.\n",
    "Задана отсортированная по неубыванию последовательность из N чисел и число Х. Необходимо определить индекс первого числа в последовательности, которое больше либо равно Х. Если такого числа нет, то вернуть число N."
   ]
  },
  {
   "cell_type": "code",
   "execution_count": null,
   "id": "9e2077e1",
   "metadata": {},
   "outputs": [],
   "source": [
    "def chechisge(index, params):\n",
    "\tseq, x = params\n",
    "\treturn seq[index] >= x\n",
    "def findfirstge(seq, x):\n",
    "\tans = lbinsearch(0, len(seq) – 1, checkisge, (seq, x))\n",
    "\tif seq[ans] < x:\n",
    "\t\treturn len(seq)\n",
    "\treturn ans"
   ]
  },
  {
   "cell_type": "markdown",
   "id": "e93cf9c0",
   "metadata": {},
   "source": [
    "Задача 5.\n",
    "Задана отсортированная последовательность по неубыванию из N чисел и число Х. Необходимо определить сколько раз число Х входит в последовательность."
   ]
  },
  {
   "cell_type": "code",
   "execution_count": null,
   "id": "c8f0d9fc",
   "metadata": {},
   "outputs": [],
   "source": [
    "def chechisgt(index, params):\n",
    "\tseq, x = params\n",
    "\treturn seq[index] >= x\n",
    "def chechisge(index, params):\n",
    "\tseq, x = params\n",
    "\treturn seq[index] >= x\n",
    "def findfirst(seq, x):\n",
    "\tans = lbinsearch(0, len(seq) – 1, check, (seq, x))\n",
    "\tif not check(ans, (seq, x)):\n",
    "\t\treturn len(seq)\n",
    "\treturn ans\n",
    "def countx(seq, x):\n",
    "\tindexgt = findfirst(seq, x, checkisgt) #больше чем\n",
    "\tindexge = findfirst(seq, x, checkisge) # больше или равно\n",
    "\treturn indexgt - indexge"
   ]
  },
  {
   "cell_type": "code",
   "execution_count": null,
   "id": "3fa4a941",
   "metadata": {},
   "outputs": [],
   "source": [
    "Задача 6.\n",
    "Задана процентная ставка по кредиту (Х% годовых), срок кредитования (N месяцев) и сумма кредита (М рублей). Необходимо рассчитать размер аннуитетного ежемесячного платежа. "
   ]
  },
  {
   "cell_type": "code",
   "execution_count": null,
   "id": "57cdcc4f",
   "metadata": {},
   "outputs": [],
   "source": [
    "def checkmonthlyperc(mperc, yperc):\n",
    "\tmsum = 1 + mperc/100\n",
    "\tysum = 1 + yperc/100\n",
    "\treturn msum**12 >= ysum\n",
    "def fbinsearch(l, r, eps, check, checkparams):\n",
    "\twhile l + eps < r:\n",
    "\t\tm = (l+r)/2\n",
    "\t\tif check(m, checkparams):\n",
    "\t\t\tr = m\n",
    "\t\telse:\n",
    "\t\t\tl = m\n",
    "\treturn l\n",
    "x = 12\n",
    "eps = 0.0001\n",
    "mperc = fbinsearch(0, x, eps, checkmonthlyperc, x)\n",
    "# Подзадача о ежемесячном проценте"
   ]
  },
  {
   "cell_type": "code",
   "execution_count": null,
   "id": "559c9455",
   "metadata": {},
   "outputs": [],
   "source": [
    "def checkcredit(mpay, params):\n",
    "\tperiods, creditsum, mperc = params\n",
    "\tfor i in range(periods):\n",
    "\t\tpercpay = creditsum * (mperc/100)\n",
    "\t\tcreditsum -= mpay – percpay\n",
    "\treturn creditsum <= 0\n",
    "def fbinsearch(l, r, eps, check, checkparams):\n",
    "\twhile l + eps < r:\n",
    "\t\tm = (l+r)/2\n",
    "\t\tif check(m, checkparams):\n",
    "\t\t\tr = m\n",
    "\t\telse:\n",
    "\t\t\tl = m\n",
    "\treturn l\n",
    "eps = 0.01  \n",
    "m = 10000000\n",
    "n = 300\n",
    "monthlypay = fbinsearch(0, m, eps, checkcredit, (n, m, mperc))\n",
    "print(monthlypay)\n",
    "# Решение задачи о размере платежа"
   ]
  },
  {
   "cell_type": "markdown",
   "id": "a8c7aa5b",
   "metadata": {},
   "source": [
    "Задача 7.\n",
    "Велосипедисты, участвующие в шоссейной гонке, в некоторый момент времени, который называется начальным, оказались в точках, удаленных от места старта на х1, х2, …, хn метров (n – общее количество велосипедистов, не превосходит 100000). Каждый велосипедист двигается с постоянной скоростью v1, v2, …, vn метров в секунду. Все велосипедисты двигаются в одну сторону. Репортер, освещающий ход соревнований, хочет определить момент времени, в который расстояние между лидирующим в гонке и замыкающим в гонке велосипедистом станет минимальным, чтобы с вертолета сфотографировать сразу всех участников велогонки.\n",
    "Необходимо найти момент времени, когда расстояние станет минимальным."
   ]
  },
  {
   "cell_type": "code",
   "execution_count": null,
   "id": "f1d32703",
   "metadata": {},
   "outputs": [],
   "source": [
    "def dist(t, params):\n",
    " \tx, v = params\n",
    "\tminpos = maxpos = x[0] + v[0] * t\n",
    "\tfor i in range(1, len(x)):\n",
    "\t\tnowpos = x[i] + v[i] * t\n",
    "\t\tminpos = min(minpos, nowpos)\n",
    "\t\tmaxpos = max(maxpos, nowpos)\n",
    "\treturn maxpos – minpos\n",
    "def checkasc(t, eps, params):\n",
    "\treturn dist(t + eps, params) >= dist(t, params)\n",
    "def fbinsearch(l, r, eps, check, checkparams):\n",
    "\twhile l + eps < r:\n",
    "\t\tm = (l+r)/2\n",
    "\t\tif check(m, checkparams):\n",
    "\t\t\tr = m\n",
    "\t\telse:\n",
    "\t\t\tl = m\n",
    "\treturn l"
   ]
  },
  {
   "cell_type": "markdown",
   "id": "dc63db02",
   "metadata": {},
   "source": [
    "# Лекция 7: «Сортировка событий»"
   ]
  },
  {
   "cell_type": "markdown",
   "id": "c607625e",
   "metadata": {},
   "source": [
    "Задача 1.\n",
    "Сайт посетило N человек, для каждого известно время входа на сайт In и время выхода с сайта Out. Считается, что человек был на сайте с момента In по Out включительно. \n",
    "Определите, какое максимальное количество человек было на сайте одновременно."
   ]
  },
  {
   "cell_type": "code",
   "execution_count": null,
   "id": "e4c29eed",
   "metadata": {},
   "outputs": [],
   "source": [
    "def maxvisitorsonline(n, tin, tout):\n",
    "\tevents = []\n",
    "\tfor i in range(n):\n",
    " \t\tevents.append((tin[i], -1)) # -1 – это тип события (приход)\n",
    "\t\tevents.append((tout[i], 1))\n",
    "\tevents.sort()\n",
    "\tonline = 0\n",
    "\tmaxonline = 0\n",
    "\tfor event in events:\n",
    "\t\tif event[1] == -1:\n",
    "\t\t\tonline += 1\n",
    "\t\telse:\n",
    "\t\t\tonline -= 1\n",
    "\t\tmaxonline = max(online, maxonline)\n",
    "\treturn maxonline"
   ]
  },
  {
   "cell_type": "markdown",
   "id": "23b0eca1",
   "metadata": {},
   "source": [
    "Задача 2.\n",
    "Сайт посетило N человек, для каждого известно время входа на сайт In и время выхода с сайта Out. Считается, что человек был на сайте с момента In по Out включительно.\n",
    "Определите, какое суммарное время на сайте был хотя бы один человек."
   ]
  },
  {
   "cell_type": "code",
   "execution_count": null,
   "id": "c8e8d010",
   "metadata": {},
   "outputs": [],
   "source": [
    "def maxvisitorsonline(n, tin, tout):\n",
    "\tevents = []\n",
    "\tfor i in range(n):\n",
    " \t\tevents.append((tin[i], -1)) # -1 – это тип события (приход)\n",
    "\t\tevents.append((tout[i], 1))\n",
    "\tevents.sort()\n",
    "\tonline = 0\n",
    "\tnotemptytime = 0\n",
    "\tfor i in range(len(events)):\n",
    "\t\tif online > 0:\n",
    "\t\t\tnotemptytime += events[i][0] – events[i-1][0]\n",
    "\t\tif events[i][1] == -1:\n",
    "\t\t\tonline += 1\n",
    "\t\telse:\n",
    "\t\t\tonline -= 1\n",
    "\treturn notemptytime"
   ]
  },
  {
   "cell_type": "markdown",
   "id": "90954560",
   "metadata": {},
   "source": [
    "Задача 3.\n",
    "Сайт посетило N человек, для каждого известно время входа на сайт In и время выхода с сайта Out. Считается, что человек был на сайте с момента In по Out включительно. Начальник заходил на сайт М раз в моменты времени Boss и смотрел, сколько людей сейчас онлайн. Посещения сайта начальником упорядочены по возрастанию времени.\n",
    "Определите, какие показания счетчика людей онлайн увидел начальник."
   ]
  },
  {
   "cell_type": "code",
   "execution_count": null,
   "id": "0d09c29d",
   "metadata": {},
   "outputs": [],
   "source": [
    "def bosscounters(n, tin, tout, m, tboss):\n",
    "\tevents = []\n",
    "\tfor i in range(n):\n",
    " \t\tevents.append((tin[i], -1)) # -1 – это тип события (приход)\n",
    "\t\tevents.append((tout[i], 1))\n",
    "\tfor i in range(m):\n",
    "\t\tevents.append((tboss[i], 0))\n",
    "\tevents.sort()\n",
    "\tonline = 0\n",
    "\tbossans = []\n",
    "\tfor i in range(len(events)):\n",
    "\t\tif events[i][1] == -1:\n",
    "\t\t\tonline += 1\n",
    "\t\telif events[i][1] == 1:\n",
    "\t\t\tonline -= 1\n",
    "\t\telse:\n",
    "\t\t\tbossans.append(online)\n",
    "\treturn bossans"
   ]
  },
  {
   "cell_type": "markdown",
   "id": "5d8260f5",
   "metadata": {},
   "source": [
    "Задача 4.\n",
    "На парковке в ТЦ N мест (занумерованных от 1 до N). За день в ТЦ приезжало М автомобилей, при этом некоторые из них длинные и занимали несколько подряд идущих парковочных мест. Для каждого авто известно время приезда и отъезда, а также два числа – с какого по какое парковочные места он занимал. Если в какой-то момент времени один автомобиль уехал с места, то место считается освободившимся и в тот же момент времени на его место может встать другой.\n",
    "Необходимо определить, был ли момент, в который были заняты все парковочные места."
   ]
  },
  {
   "cell_type": "code",
   "execution_count": null,
   "id": "fb5b9cf5",
   "metadata": {},
   "outputs": [],
   "source": [
    "def isparkingfull(cars, n):\n",
    "\tevents = []\n",
    "\tfor car in cars:\n",
    "\t\ttimein, timeout, placefrom, placeto = car\n",
    "\t\tevents.append((timein, 1, placeto - placefrom + 1))\n",
    "\t\tevents.append((timeout, -1, placeto - placefrom + 1))\n",
    "\tevents.sort()\n",
    "\toccupied = 0\n",
    "\tfor i in range(len(events)):\n",
    "\t\tif events[i][1] == -1:\n",
    "\t\t\toccupied -= events[i][2]\n",
    "\t\telif events[i][1] == 1:\n",
    "\t\t\toccupied += events[i][2]\n",
    "\t\tif occupied == n:\n",
    "\t\t\treturn True\n",
    "\treturn False"
   ]
  },
  {
   "cell_type": "markdown",
   "id": "910211e0",
   "metadata": {},
   "source": [
    "Задача 5.\n",
    "На парковке в ТЦ N мест (занумерованных от 1 до N). За день в ТЦ приезжало М автомобилей, при этом некоторые из них длинные и занимали несколько подряд идущих парковочных мест. Для каждого авто известно время приезда и отъезда, а также два числа – с какого по какое парковочные места он занимал. Если в какой-то момент времени один автомобиль уехал с места, то место считается освободившимся и в тот же момент времени на его место может встать другой.\n",
    "Необходимо определить, был ли момент, в который были заняты все парковочные места и определить минимальное количество авто, которое заняло все места. Если такого момента не было – вернуть М + 1."
   ]
  },
  {
   "cell_type": "code",
   "execution_count": null,
   "id": "82d8e28e",
   "metadata": {},
   "outputs": [],
   "source": [
    "def mincarsonfullparking(cars, n):\n",
    "\t events = []\n",
    "\tfor car in cars:\n",
    "\t\ttimein, timeout, placefrom, placeto = car\n",
    "\t\tevents.append((timein, 1, placeto - placefrom + 1))\n",
    "\t\tevents.append((timeout, -1, placeto - placefrom + 1))\n",
    "\tevents.sort()\n",
    "\toccupied = 0\n",
    "\tnowcars = 0\n",
    "\tmincars = len(cars) + 1\n",
    "\tfor i in range(len(events)):\n",
    "\t\tif events[i][1] == -1:\n",
    "\t\t\toccupied -= events[i][2]\n",
    "\t\t\tnowcars -= 1\n",
    "\t\telif events[i][1] == 1:\n",
    "\t\t\toccupied += events[i][2]\n",
    "\t\t\tnowcars += 1\n",
    "\t\tif occupied == n:\n",
    "\t\t\tmincars = min(mincars, nowcars)\n",
    "\treturn mincars"
   ]
  },
  {
   "cell_type": "markdown",
   "id": "e6de2d05",
   "metadata": {},
   "source": [
    "Задача 6.\n",
    "На парковке в ТЦ N мест (занумерованных от 1 до N). За день в ТЦ приезжало М автомобилей, при этом некоторые из них длинные и занимали несколько подряд идущих парковочных мест. Для каждого авто известно время приезда и отъезда, а также два числа – с какого по какое парковочные места он занимал. Если в какой-то момент времени один автомобиль уехал с места, то место считается освободившимся и в тот же момент времени на его место может встать другой.\n",
    "Необходимо определить, был ли момент, в который были заняты все парковочные места и определить минимальное количество авто, которое заняло все места, а также номера этих авто (в том порядке, как они перечисляются в списке). Если парковка никогда не была занята полностью вернуть пустой список"
   ]
  },
  {
   "cell_type": "code",
   "execution_count": null,
   "id": "70071441",
   "metadata": {},
   "outputs": [],
   "source": [
    "def mincarsonfullparking(cars, n):\n",
    "\tevents = []\n",
    "\tfor car in cars:\n",
    "\t\ttimein, timeout, placefrom, placeto = cars[i]\n",
    "\t\tevents.append((timein, 1, placeto - placefrom + 1, i))\n",
    "\t\tevents.append((timeout, -1, placeto - placefrom + 1, i))\n",
    "\tevents.sort()\n",
    "\toccupied = 0\n",
    "\tnowcars = 0\n",
    "\tmincars = len(cars) + 1\n",
    "\tfor i in range(len(events)):\n",
    "\t\tif events[i][1] == -1:\n",
    "\t\t\toccupied -= events[i][2]\n",
    "\t\t\tnowcars -= 1\n",
    "\t\telif events[i][1] == 1:\n",
    "\t\t\toccupied += events[i][2]\n",
    "\t\t\tnowcars += 1\n",
    "\t\tif occupied == n and nowcars < mincars:\n",
    "\t\t\tmincars = nowcars\n",
    "\tcarnums = set()\n",
    "\tnowcars = 0\n",
    "\tfor i in range(len(events)):\n",
    "\t\tif events[i][1] == -1:\n",
    "\t\t\toccupied -= events[i][2]\n",
    "\t\t\tnowcars -= 1\n",
    "\t\t\tcarnums.remove(events[i][3])\n",
    "\t\telif events[i][1] == 1:\n",
    "\t\t\toccupied += events[i][2]\n",
    "\t\t\tnowcars += 1\n",
    "\t\t\tcarnums.add(events[i][3])\n",
    "\t\tif occupied == n and nowcars == mincars: \n",
    "\t\t\treturn carnums\n",
    "\treturn set()"
   ]
  },
  {
   "cell_type": "markdown",
   "id": "c708292a",
   "metadata": {},
   "source": [
    "# Лекция 8: «Деревья»"
   ]
  },
  {
   "cell_type": "code",
   "execution_count": null,
   "id": "dabb2801",
   "metadata": {},
   "outputs": [],
   "source": [
    "def initmemory(maxn):\n",
    "\tmemory = []\n",
    "\tfor i in range(maxn):\n",
    "\t\tmemory.append([0, i+1, 0])\n",
    "\treturn [memory, 0]"
   ]
  },
  {
   "cell_type": "code",
   "execution_count": null,
   "id": "234b1c6f",
   "metadata": {},
   "outputs": [],
   "source": [
    "def newnode(memstruct):\n",
    "\tmemory, firstfree = memstruct\n",
    "\tmemstruct[1] = memory[firstfree][1]\n",
    "\treturn firstfree"
   ]
  },
  {
   "cell_type": "code",
   "execution_count": null,
   "id": "3720d8a3",
   "metadata": {},
   "outputs": [],
   "source": [
    "def delnode(memstruct, index):\n",
    "\tmemory, firstfree = memstruct\n",
    "\tmemory[index][1] = firstfree\n",
    "\tmemstruct[1] = index"
   ]
  },
  {
   "cell_type": "code",
   "execution_count": null,
   "id": "3f33b391",
   "metadata": {},
   "outputs": [],
   "source": [
    "# Поиск\n",
    "def find(memstruct, root, x):\n",
    "\tkey = memstruct[0][root][0]\n",
    "\tif x == key:\n",
    "\t\treturn root\n",
    "\telif x < key:\n",
    " \t\tleft = memstruct[0][root][1]\n",
    "\t\tif left == -1: #-1 означает, что не существует левого (в данном случае) сына\n",
    "\t\t\treturn -1\n",
    "\t\telse: \n",
    "\t\t\treturn find(memstruct, left, x)\n",
    "\telif x > key:\n",
    "\t\tright = memstruct[0][root][2]\n",
    " \t\tif right == -1:\n",
    "\t\t\treturn -1\n",
    "\t\telse:\n",
    "\t\t\treturn find(memstruct, right, x)"
   ]
  },
  {
   "cell_type": "code",
   "execution_count": null,
   "id": "44ccf792",
   "metadata": {},
   "outputs": [],
   "source": [
    "# Добавление\n",
    "def createandfillnode(memstruct, key):\n",
    "\tindex = newnode(memstruct)\n",
    "\tmemstruct[0][index][0] = key\n",
    "\tmemstruct[0][index][1] = -1\n",
    "\tmemstruct[0][index][2] = -1\n",
    "\treturn index\n",
    "def add(memstruct, root, x):\n",
    "\tkey = memstruct[0][root][0]\n",
    "\tif x < key:\n",
    "\t\tleft = memstruct[0][root][0]\n",
    "\t\tif left == -1:\n",
    "\t\t\tmemstruct[0][root][1] = createandfillnode(memstruct, x)\n",
    "\t\telse:\n",
    "\t\t\tadd(memstruct, left, x)\n",
    "\telif x > key:\n",
    "\t\tright = memstruct[0][root][2]\n",
    "\t\tif right == -1:\n",
    "\t\t\tmemstruct[0][index][2] = createandfillnode(memstruct, x)\n",
    "\t\telse:\n",
    "\t\t\tadd(memstruct, right, x)"
   ]
  },
  {
   "cell_type": "markdown",
   "id": "8baa67c2",
   "metadata": {},
   "source": [
    "Задача\n",
    "D – в наиболее левого непосещенного ребенка (детей всегда либо два, либо ноль).\n",
    "U – поднимается вверх до тех пор, пока приходим из правого ребенка. Если пришли в вершину из левого ребенка – сразу пойдем в правого.\n",
    "По сериализованной записи восстановить код для листьев."
   ]
  },
  {
   "cell_type": "code",
   "execution_count": null,
   "id": "1aed6318",
   "metadata": {},
   "outputs": [],
   "source": [
    "def maketree(serialized):\n",
    "\ttree = {'left' : None, 'right' : None, 'up' : None, 'type' : 'root'}\n",
    "\tnownode = tree\n",
    "\tfor sym in serialized:\n",
    "\t\tif sym == 'D':\n",
    "\t\t\tnewnode = {'left' : None, 'right' : None, 'up' : nownode, 'type' : 'left'}\n",
    "\t\t\tnownode['left'] = newnode\n",
    "\t\t\tnownode = newnode\n",
    "\t\telif sym == 'U':\n",
    "\t\t\twhile nownode['type'] == 'right':\n",
    "\t\t\t\tnownode = nownode['up']\n",
    "\t\t\tnownode = nownode['up']\n",
    "\t\t\tnewnode = {'left' : None, 'right' : None, 'up' : nownode, 'type' : 'right'}\n",
    "\t\t\tnownode['right'] = newnode\n",
    "\treturn tree\n",
    "def traverse(root, prefix):\n",
    "\tif root['left'] is None and root['right'] is None:\n",
    "\t\treturn [''.join(prefix)]\n",
    "\tprefix.append('0')\n",
    "\tans = traverse(root['left'], prefix)\n",
    "\tprefix.pop()\n",
    "\tprefix.append('1')\n",
    "    ans.extend(traverse(root['right'], prefix))\n",
    "\tprefix.pop()\n",
    "\treturn ans"
   ]
  }
 ],
 "metadata": {
  "kernelspec": {
   "display_name": "Python 3",
   "language": "python",
   "name": "python3"
  },
  "language_info": {
   "codemirror_mode": {
    "name": "ipython",
    "version": 3
   },
   "file_extension": ".py",
   "mimetype": "text/x-python",
   "name": "python",
   "nbconvert_exporter": "python",
   "pygments_lexer": "ipython3",
   "version": "3.6.8"
  }
 },
 "nbformat": 4,
 "nbformat_minor": 5
}
